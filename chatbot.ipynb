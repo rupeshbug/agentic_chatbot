{
 "cells": [
  {
   "cell_type": "code",
   "execution_count": 1,
   "id": "31de5daf",
   "metadata": {},
   "outputs": [],
   "source": [
    "from langchain_community.tools import ArxivQueryRun, WikipediaQueryRun\n",
    "from langchain_community.utilities import WikipediaAPIWrapper, ArxivAPIWrapper"
   ]
  },
  {
   "cell_type": "code",
   "execution_count": 2,
   "id": "2e66068e",
   "metadata": {},
   "outputs": [
    {
     "name": "stdout",
     "output_type": "stream",
     "text": [
      "arxiv\n"
     ]
    }
   ],
   "source": [
    "api_wrapper_arxiv = ArxivAPIWrapper(top_k_results=2, doc_content_chars_max=500)\n",
    "arxiv = ArxivQueryRun(api_wrapper=api_wrapper_arxiv, description=\"Query arxiv papers\")\n",
    "print(arxiv.name)"
   ]
  },
  {
   "cell_type": "code",
   "execution_count": 3,
   "id": "1f756d72",
   "metadata": {},
   "outputs": [
    {
     "data": {
      "text/plain": [
       "\"Published: 2024-07-22\\nTitle: Attention Is All You Need But You Don't Need All Of It For Inference of Large Language Models\\nAuthors: Georgy Tyukin, Gbetondji J-S Dovonon, Jean Kaddour, Pasquale Minervini\\nSummary: The inference demand for LLMs has skyrocketed in recent months, and serving\\nmodels with low latencies remains challenging due to the quadratic input length\\ncomplexity of the attention layers. In this work, we investigate the effect of\\ndropping MLP and attention layers at inference time o\""
      ]
     },
     "execution_count": 3,
     "metadata": {},
     "output_type": "execute_result"
    }
   ],
   "source": [
    "arxiv.invoke(\"Attention is all you need\")"
   ]
  },
  {
   "cell_type": "code",
   "execution_count": 4,
   "id": "1eea14fc",
   "metadata": {},
   "outputs": [
    {
     "data": {
      "text/plain": [
       "'wikipedia'"
      ]
     },
     "execution_count": 4,
     "metadata": {},
     "output_type": "execute_result"
    }
   ],
   "source": [
    "api_wrapper_wiki = WikipediaAPIWrapper(top_k_results=1, doc_content_chars_max=500)\n",
    "wiki = WikipediaQueryRun(api_wrapper=api_wrapper_wiki)\n",
    "wiki.name"
   ]
  },
  {
   "cell_type": "code",
   "execution_count": 5,
   "id": "d38f6ca8",
   "metadata": {},
   "outputs": [],
   "source": [
    "from dotenv import load_dotenv\n",
    "load_dotenv()\n",
    "\n",
    "import os\n",
    "\n",
    "tavily_api_key = os.getenv(\"TAVILY_API_KEY\")\n",
    "groq_api_key = os.getenv(\"GROQ_API_KEY\")"
   ]
  },
  {
   "cell_type": "code",
   "execution_count": 6,
   "id": "48037a8f",
   "metadata": {},
   "outputs": [],
   "source": [
    "from langchain_community.tools.tavily_search import TavilySearchResults\n",
    "\n",
    "tavily = TavilySearchResults(tavily_api_key = tavily_api_key)"
   ]
  },
  {
   "cell_type": "code",
   "execution_count": 7,
   "id": "1d60d0f6",
   "metadata": {},
   "outputs": [
    {
     "data": {
      "text/plain": [
       "[{'title': 'AI News | Latest AI News, Analysis & Events',\n",
       "  'url': 'https://www.artificialintelligence-news.com/',\n",
       "  'content': 'AI News reports on the latest artificial intelligence news and insights. Explore industry trends from the frontline of AI.',\n",
       "  'score': 0.71185225},\n",
       " {'title': 'AI News - YouTube',\n",
       "  'url': 'https://www.youtube.com/@AINewsOfficial',\n",
       "  'content': 'AI News delivers the latest breakthroughs in artificial intelligence, machine learning, deep learning, brain computer interface, robotics, and other future',\n",
       "  'score': 0.6672566},\n",
       " {'title': 'AI News & Artificial Intelligence - TechCrunch',\n",
       "  'url': 'https://techcrunch.com/category/artificial-intelligence/',\n",
       "  'content': '![](https://techcrunch.com/wp-content/uploads/2024/09/tc-lockup.svg)\\n![](https://techcrunch.com/wp-content/uploads/2024/09/tc-logo-mobile.svg)\\n\\n### Topics\\n\\n[Latest](/latest/)\\n\\n[AI](/category/artificial-intelligence/)\\n\\n[Amazon](/tag/amazon/)\\n\\n[Apps](/category/apps/)\\n\\n[Biotech & Health](/category/biotech-health/)\\n\\n[Climate](/category/climate/)\\n\\n[Cloud Computing](/tag/cloud-computing/)\\n\\n[Commerce](/category/commerce/)\\n\\n[Crypto](/category/cryptocurrency/)\\n\\n[Enterprise](/category/enterprise/) [...] ![](https://techcrunch.com/wp-content/uploads/2025/06/IMG_1221.jpeg?w=396)\\n\\n### [One of Africa’s most successful founders is back with a new AI startup and already raised $9M](https://techcrunch.com/2025/06/03/one-of-africas-most-successful-founders-is-back-with-a-new-ai-startup-and-already-raised-9m/)\\n\\n![Man looking at big data represented by binary code and data symbols like graphs.](https://techcrunch.com/wp-content/uploads/2023/09/GettyImages-1206978865.jpg?w=668) [...] [TechCrunch Brand Studio](/brand-studio/)\\n\\n[Crunchboard](https://www.crunchboard.com/)\\n\\n[Contact Us](/contact-us/)\\n\\n# AI\\n\\nNews coverage on artificial intelligence and machine learning tech, the companies building them, and the ethical issues AI raises today. This encompasses [generative AI](https://techcrunch.com/tag/generative-ai/), including large language models, text-to-image and text-to-video models; speech recognition and generation; and predictive analytics.\\n\\n###',\n",
       "  'score': 0.61057013},\n",
       " {'title': 'Artificial intelligence - NBC News',\n",
       "  'url': 'https://www.nbcnews.com/artificial-intelligence',\n",
       "  'content': \"### [A.I. chatbots becoming popular but worry privacy advocates](https://www.nbcnews.com/nightly-news/video/a-i-chatbots-becoming-popular-but-worry-privacy-advocates-233710149872)\\n\\n## Nightly News\\n\\n## MORE AI NEWS\\n\\n## Nvidia CEO hails Trump's plan to rescind some export curbs on AI chips to China [...] Profile\\n\\nSections\\n\\nLocal\\n\\ntv\\n\\nFeatured\\n\\nMore From NBC\\n\\nFollow NBC News\\n\\nnews Alerts\\n\\nThere are no new alerts at this time\\n\\n# ARTIFICIAL INTELLIGENCE\\n\\nThe latest news and top stories on artificial intelligence, including ChatGPT, AI Chatbot and Bard.\\n\\n![Donald Trump.](https://media-cldnry.s-nbcnews.com/image/upload/t_focal-762x508,f_auto,q_auto:best/rockcms/2025-06/250604-trump-ch-1044-4a20e9.jpg) [...] ## [Reddit sues AI startup Anthropic for breach of contract, 'unfair competition'](https://www.nbcnews.com/tech/tech-news/reddit-sues-ai-anthropic-breach-contract-unfair-competition-rcna211062)\\n\\n![Sam Altman](https://media-cldnry.s-nbcnews.com/image/upload/t_focal-80x80,f_auto,q_auto:best/rockcms/2025-04/250416-sam-altman-ew-307p-8b9935.jpg)\\n\\n### [Business News](https://www.nbcnews.com/business)\",\n",
       "  'score': 0.5957048},\n",
       " {'title': 'AI Weekly — AI News & Leading Newsletter on Artificial Intelligence ...',\n",
       "  'url': 'https://aiweekly.co/',\n",
       "  'content': 'Subscribe to a weekly collection of AI News and resources on Artificial Intelligence and Machine Learning. For free. Email SUBSCRIBE.',\n",
       "  'score': 0.5826579}]"
      ]
     },
     "execution_count": 7,
     "metadata": {},
     "output_type": "execute_result"
    }
   ],
   "source": [
    "tavily.invoke(\"Provide me the latest AI news\")"
   ]
  },
  {
   "cell_type": "code",
   "execution_count": 8,
   "id": "9b44442a",
   "metadata": {},
   "outputs": [],
   "source": [
    "# combine all these tools in the list\n",
    "\n",
    "tools = [arxiv, wiki, tavily]"
   ]
  },
  {
   "cell_type": "code",
   "execution_count": 9,
   "id": "ee198024",
   "metadata": {},
   "outputs": [],
   "source": [
    "# initialize the LLM model\n",
    "\n",
    "from langchain_groq import ChatGroq\n",
    "\n",
    "llm = ChatGroq(model = \"qwen-qwq-32b\")"
   ]
  },
  {
   "cell_type": "code",
   "execution_count": 10,
   "id": "e0811b35",
   "metadata": {},
   "outputs": [
    {
     "data": {
      "text/plain": [
       "AIMessage(content='\\n<think>\\nOkay, so I need to explain what AI is. Let me start by recalling what I know. AI stands for Artificial Intelligence, right? But what does that actually mean? I think it\\'s when machines can perform tasks that usually require human intelligence. But wait, that\\'s pretty broad. Maybe I should break it down into different types or categories?\\n\\nHmm, there\\'s the difference between general AI and narrow AI. General AI is like human-level intelligence that can handle any task, but I don\\'t think we have that yet. Narrow AI is what we have now, like voice recognition or image processing. I should mention both.\\n\\nAlso, there are different approaches to AI. Machine learning is a subset of AI where algorithms learn from data. Deep learning is a part of that, using neural networks. Maybe I should explain those terms too?\\n\\nApplications are important too. People use AI in healthcare, self-driving cars, virtual assistants like Siri or Alexa. These examples make it concrete. But I should also mention the potential downsides, like job displacement or ethical issues with bias in algorithms.\\n\\nWait, the user asked for a definition, so maybe start with a concise definition first. Then elaborate on the components, types, applications, and maybe current limitations. Let me structure this step by step.\\n\\nFirst, define AI in simple terms. Then explain the key concepts: learning, reasoning, perception. Then talk about the two main types: general vs. narrow. Then mention the techniques like machine learning, deep learning. Then applications and real-world examples. Finally, touch on challenges or ethical considerations.\\n\\nI should make sure not to get too technical, but cover the essentials. Maybe avoid jargon unless necessary, and explain terms when they come up. Also, clarify that AI isn\\'t just one thing but a field with various subfields.\\n\\nWait, did I miss anything? Maybe the history? Like early AI vs modern AI? But maybe that\\'s too detailed for a basic explanation. The user might just want a straightforward answer. Let me check if there are any common misconceptions to address, like AI being conscious or having feelings. Probably important to note that current AI lacks consciousness, it\\'s just processing data.\\n\\nAlso, maybe mention that AI systems can improve over time with more data, which is why machine learning is so important. Supervised vs unsupervised learning? Maybe that\\'s too detailed, but perhaps a brief mention would help.\\n\\nHmm, need to balance depth and brevity. The user\\'s question is \"What is AI?\" so the answer should be comprehensive but not overly technical. Let me try to outline the points again:\\n\\n1. Definition: AI is the field of computer science aiming to create systems that can perform tasks requiring human intelligence.\\n\\n2. Key aspects: learning from experience, reasoning to solve problems, perceiving environments.\\n\\n3. Types: General AI (AGI) vs. Narrow AI (ANI). AGI is hypothetical; current AI is narrow.\\n\\n4. Techniques: Machine learning, deep learning, neural networks. Maybe explain these as subsets.\\n\\n5. Applications: Examples in healthcare, transportation, customer service, etc.\\n\\n6. Challenges: Data dependency, ethical issues, job impact, limitations in understanding context.\\n\\n7. Current state: Mostly narrow AI, AGI is still a future goal.\\n\\nI think that covers it. Let me make sure each part flows logically. Avoid assuming prior knowledge. Use simple terms. Maybe start with the basic definition, then expand each component. Examples would help clarify each point. Okay, I think I can structure it like that.\\n</think>\\n\\n**Artificial Intelligence (AI)** refers to the field of computer science focused on creating systems that can perform tasks requiring aspects of human intelligence. Here\\'s a structured breakdown:\\n\\n### 1. **Definition**\\n   - AI involves developing machines or software that can mimic human cognitive functions, such as learning, problem-solving, decision-making, and perception. These systems aim to process information and act in ways that appear \"intelligent.\"\\n\\n---\\n\\n### 2. **Key Aspects of AI**\\n   - **Learning**: Systems improve performance over time by analyzing data and identifying patterns (e.g., facial recognition software learning from images).\\n   - **Reasoning**: AI can solve problems or make decisions using logical deductions (e.g., chess-playing algorithms).\\n   - **Perception**: Interpreting sensory inputs like images, sounds, or text (e.g., self-driving cars detecting obstacles).\\n   - **Natural Language Processing (NLP)**: Understanding and generating human language (e.g., chatbots).\\n\\n---\\n\\n### 3. **Types of AI**\\n   - **Narrow AI (Weak AI)**: \\n     - *Current reality*: Systems designed for **specific tasks**. Examples include:\\n       - **Voice assistants** (e.g., Siri, Alexa).\\n       - **Recommendation systems** (e.g., Netflix, Spotify).\\n       - **Image recognition** (e.g., Google Photos).\\n     - Limited to their programmed scope and lack self-awareness.\\n   - **General AI (AGI) / Strong AI**: \\n     - *Hypothetical future goal*: Human-like intelligence capable of learning, reasoning, and *any* task a human can do (not yet achieved).\\n\\n---\\n\\n### 4. **Core Techniques**\\n   - **Machine Learning (ML)**: \\n     - A subset of AI where systems learn from data without explicit programming. Includes:\\n       - **Supervised Learning**: Training on labeled data (e.g., classifying emails as spam).\\n       - **Unsupervised Learning**: Finding patterns in unlabeled data (e.g., customer segmentation).\\n       - **Reinforcement Learning**: Learning through trial-and-error rewards (e.g., game-playing AI).\\n   - **Deep Learning**: \\n     - A type of ML using **neural networks** (layered algorithms inspired by the human brain) to process complex data (e.g., image or speech recognition).\\n   - **Rule-Based Systems**: Early AI using pre-programmed rules (e.g., expert systems in medicine).\\n\\n---\\n\\n### 5. **Applications**\\n   - **Healthcare**: Diagnosing diseases, drug discovery, and personalized treatment plans.\\n   - **Transportation**: Autonomous vehicles and traffic management.\\n   - **Business**: Customer service chatbots, fraud detection, and predictive analytics.\\n   - **Entertainment**: Personalized recommendations, video game NPCs, and content creation.\\n   - **Home**: Smart assistants, automated homes, and energy management.\\n\\n---\\n\\n### 6. **Challenges & Ethical Considerations**\\n   - **Data Dependency**: Performance relies on high-quality, diverse datasets (e.g., biased data can lead to unfair outcomes).\\n   - **Lack of Contextual Understanding**: AI often lacks human-like common sense or ethical judgment.\\n   - **Job Displacement**: Automation may affect certain professions (e.g., manufacturing, customer service).\\n   - **Privacy Concerns**: Use of personal data for training models raises ethical issues.\\n   - **Explainability**: \"Black-box\" models (e.g., deep learning) can be hard to interpret, complicating trust and accountability.\\n\\n---\\n\\n### 7. **Current State**\\n   - Most AI today is **narrow/niche**: highly specialized but task-specific. AGI remains a distant goal, with ongoing debates about feasibility and implications.\\n\\n---\\n\\n### 8. **Common Misconceptions**\\n   - **AI is \"sentient\"**: Current systems lack consciousness or emotions—they follow programmed logic.\\n   - **AI will replace humans**: It often augments human capabilities (e.g., doctors using AI for diagnoses) rather than fully replacing humans.\\n\\n---\\n\\nIn summary, AI is a rapidly evolving field that combines algorithms, data, and computational power to solve problems and automate tasks. While it has transformative potential, its development requires balancing innovation with ethical and societal considerations.', additional_kwargs={}, response_metadata={'token_usage': {'completion_tokens': 1594, 'prompt_tokens': 14, 'total_tokens': 1608, 'completion_time': 3.9596636050000003, 'prompt_time': 0.002882023, 'queue_time': 0.255237036, 'total_time': 3.962545628}, 'model_name': 'qwen-qwq-32b', 'system_fingerprint': 'fp_1e88ca32eb', 'finish_reason': 'stop', 'logprobs': None}, id='run--dee96813-3984-4225-80b3-375ec06608ff-0', usage_metadata={'input_tokens': 14, 'output_tokens': 1594, 'total_tokens': 1608})"
      ]
     },
     "execution_count": 10,
     "metadata": {},
     "output_type": "execute_result"
    }
   ],
   "source": [
    "llm.invoke(\"What is AI?\")"
   ]
  },
  {
   "cell_type": "code",
   "execution_count": 11,
   "id": "8ffeef47",
   "metadata": {},
   "outputs": [],
   "source": [
    "# bind the LLM with tools\n",
    "\n",
    "llm_with_tools = llm.bind_tools(tools = tools)"
   ]
  },
  {
   "cell_type": "code",
   "execution_count": 12,
   "id": "37503070",
   "metadata": {},
   "outputs": [
    {
     "data": {
      "text/plain": [
       "AIMessage(content='', additional_kwargs={'tool_calls': [{'id': 'call_cahr', 'function': {'arguments': '{\"query\":\"recent news on AI advancements and developments\"}', 'name': 'tavily_search_results_json'}, 'type': 'function'}]}, response_metadata={'token_usage': {'completion_tokens': 183, 'prompt_tokens': 356, 'total_tokens': 539, 'completion_time': 0.430876675, 'prompt_time': 0.029669288, 'queue_time': 1.1234876599999999, 'total_time': 0.460545963}, 'model_name': 'qwen-qwq-32b', 'system_fingerprint': 'fp_28178d7ff6', 'finish_reason': 'tool_calls', 'logprobs': None}, id='run--2ecd070e-d458-45ca-8d96-423fb9462a5f-0', tool_calls=[{'name': 'tavily_search_results_json', 'args': {'query': 'recent news on AI advancements and developments'}, 'id': 'call_cahr', 'type': 'tool_call'}], usage_metadata={'input_tokens': 356, 'output_tokens': 183, 'total_tokens': 539})"
      ]
     },
     "execution_count": 12,
     "metadata": {},
     "output_type": "execute_result"
    }
   ],
   "source": [
    "llm_with_tools.invoke(\"what is the recent news on AI?\")"
   ]
  },
  {
   "cell_type": "code",
   "execution_count": 13,
   "id": "78d01f07",
   "metadata": {},
   "outputs": [
    {
     "data": {
      "text/plain": [
       "AIMessage(content='', additional_kwargs={'tool_calls': [{'id': 'call_y657', 'function': {'arguments': '{\"query\":\"quantum computing\"}', 'name': 'arxiv'}, 'type': 'function'}]}, response_metadata={'token_usage': {'completion_tokens': 94, 'prompt_tokens': 357, 'total_tokens': 451, 'completion_time': 0.2285696, 'prompt_time': 0.045730337, 'queue_time': 0.24861232899999997, 'total_time': 0.274299937}, 'model_name': 'qwen-qwq-32b', 'system_fingerprint': 'fp_1e88ca32eb', 'finish_reason': 'tool_calls', 'logprobs': None}, id='run--80143ede-c893-47b8-8cf2-b0a4149018c7-0', tool_calls=[{'name': 'arxiv', 'args': {'query': 'quantum computing'}, 'id': 'call_y657', 'type': 'tool_call'}], usage_metadata={'input_tokens': 357, 'output_tokens': 94, 'total_tokens': 451})"
      ]
     },
     "execution_count": 13,
     "metadata": {},
     "output_type": "execute_result"
    }
   ],
   "source": [
    "llm_with_tools.invoke(\"What is the latest research on quantum computing?\")"
   ]
  },
  {
   "cell_type": "code",
   "execution_count": 14,
   "id": "bbf08184",
   "metadata": {},
   "outputs": [
    {
     "data": {
      "text/plain": [
       "AIMessage(content='', additional_kwargs={'tool_calls': [{'id': 'call_xv4k', 'function': {'arguments': '{\"query\":\"machine learning\"}', 'name': 'wikipedia'}, 'type': 'function'}]}, response_metadata={'token_usage': {'completion_tokens': 154, 'prompt_tokens': 353, 'total_tokens': 507, 'completion_time': 0.352245087, 'prompt_time': 0.083251757, 'queue_time': 0.5755434, 'total_time': 0.435496844}, 'model_name': 'qwen-qwq-32b', 'system_fingerprint': 'fp_a91d9c2cfb', 'finish_reason': 'tool_calls', 'logprobs': None}, id='run--ea401d2e-6413-468c-8fef-7f4287cbfdf1-0', tool_calls=[{'name': 'wikipedia', 'args': {'query': 'machine learning'}, 'id': 'call_xv4k', 'type': 'tool_call'}], usage_metadata={'input_tokens': 353, 'output_tokens': 154, 'total_tokens': 507})"
      ]
     },
     "execution_count": 14,
     "metadata": {},
     "output_type": "execute_result"
    }
   ],
   "source": [
    "llm_with_tools.invoke(\"What is machine learning?\")"
   ]
  },
  {
   "cell_type": "code",
   "execution_count": 15,
   "id": "6d106a06",
   "metadata": {},
   "outputs": [],
   "source": [
    "# Note the 'name' key in all the AIMessage. The LLM will know which tool to call based on the input provided by the user."
   ]
  },
  {
   "cell_type": "markdown",
   "id": "97d4b183",
   "metadata": {},
   "source": [
    "### Workflow using LangGraph"
   ]
  },
  {
   "cell_type": "code",
   "execution_count": 16,
   "id": "f5d74b80",
   "metadata": {},
   "outputs": [],
   "source": [
    "from typing_extensions import TypedDict \n",
    "from langchain_core.messages import AnyMessage   ## Human Message or AI message\n",
    "from typing import Annotated   ## labelling\n",
    "from langgraph.graph.message import add_messages   ## Reducers in langgraph"
   ]
  },
  {
   "cell_type": "code",
   "execution_count": 17,
   "id": "dc1a8f27",
   "metadata": {},
   "outputs": [],
   "source": [
    "class State(TypedDict):\n",
    "    # add_messages will not ovveride coming messages but rather append messaged inside the messages variable\n",
    "    messages: Annotated[list[AnyMessage], add_messages]"
   ]
  },
  {
   "cell_type": "code",
   "execution_count": 18,
   "id": "f55f89d1",
   "metadata": {},
   "outputs": [],
   "source": [
    "from IPython.display import Image, display\n",
    "from langgraph.graph import StateGraph, START, END\n",
    "from langgraph.prebuilt import ToolNode\n",
    "from langgraph.prebuilt import tools_condition"
   ]
  },
  {
   "cell_type": "code",
   "execution_count": null,
   "id": "d15923c0",
   "metadata": {},
   "outputs": [
    {
     "data": {
      "text/plain": [
       "<langgraph.graph.state.StateGraph at 0x284caa261d0>"
      ]
     },
     "execution_count": 19,
     "metadata": {},
     "output_type": "execute_result"
    }
   ],
   "source": [
    "# node definition\n",
    "def tool_calling_llm(state: State):\n",
    "    return {\"messages\": [llm_with_tools.invoke(state[\"messages\"])]}\n",
    "\n",
    "builder = StateGraph(State)\n",
    "builder.add_node(\"tool_calling_llm\", tool_calling_llm)\n",
    "builder.add_node(\"tools\", ToolNode(tools))\n",
    "\n",
    "# edges\n",
    "builder.add_edge(START, \"tool_calling_llm\")\n",
    "builder.add_conditional_edges(\n",
    "    \"tool_calling_llm\",\n",
    "    # if the latest message (result) from assistant is a tool call -> tools_condition routes to tools\n",
    "    # if the latest message (result) from assistant is not a tool call -> tools_condition routes to END\n",
    "    tools_condition\n",
    ")\n",
    "\n",
    "builder.add_edge(\"tools\", END)"
   ]
  },
  {
   "cell_type": "code",
   "execution_count": null,
   "id": "9bec5ac0",
   "metadata": {},
   "outputs": [],
   "source": []
  },
  {
   "cell_type": "code",
   "execution_count": null,
   "id": "a8bcdb3c",
   "metadata": {},
   "outputs": [],
   "source": []
  },
  {
   "cell_type": "code",
   "execution_count": null,
   "id": "4fe3f503",
   "metadata": {},
   "outputs": [],
   "source": []
  },
  {
   "cell_type": "code",
   "execution_count": null,
   "id": "26943a42",
   "metadata": {},
   "outputs": [],
   "source": []
  },
  {
   "cell_type": "code",
   "execution_count": null,
   "id": "171f49de",
   "metadata": {},
   "outputs": [],
   "source": []
  }
 ],
 "metadata": {
  "kernelspec": {
   "display_name": ".venv",
   "language": "python",
   "name": "python3"
  },
  "language_info": {
   "codemirror_mode": {
    "name": "ipython",
    "version": 3
   },
   "file_extension": ".py",
   "mimetype": "text/x-python",
   "name": "python",
   "nbconvert_exporter": "python",
   "pygments_lexer": "ipython3",
   "version": "3.11.7"
  }
 },
 "nbformat": 4,
 "nbformat_minor": 5
}
