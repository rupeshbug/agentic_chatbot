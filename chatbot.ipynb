{
 "cells": [
  {
   "cell_type": "code",
   "execution_count": 2,
   "id": "31de5daf",
   "metadata": {},
   "outputs": [],
   "source": [
    "from langchain_community.tools import ArxivQueryRun, WikipediaQueryRun\n",
    "from langchain_community.utilities import WikipediaAPIWrapper, ArxivAPIWrapper"
   ]
  },
  {
   "cell_type": "code",
   "execution_count": 3,
   "id": "2e66068e",
   "metadata": {},
   "outputs": [
    {
     "name": "stdout",
     "output_type": "stream",
     "text": [
      "arxiv\n"
     ]
    }
   ],
   "source": [
    "api_wrapper_arxiv = ArxivAPIWrapper(top_k_results=2, doc_content_chars_max=500)\n",
    "arxiv = ArxivQueryRun(api_wrapper=api_wrapper_arxiv, description=\"Query arxiv papers\")\n",
    "print(arxiv.name)"
   ]
  },
  {
   "cell_type": "code",
   "execution_count": 4,
   "id": "1f756d72",
   "metadata": {},
   "outputs": [
    {
     "data": {
      "text/plain": [
       "\"Published: 2024-07-22\\nTitle: Attention Is All You Need But You Don't Need All Of It For Inference of Large Language Models\\nAuthors: Georgy Tyukin, Gbetondji J-S Dovonon, Jean Kaddour, Pasquale Minervini\\nSummary: The inference demand for LLMs has skyrocketed in recent months, and serving\\nmodels with low latencies remains challenging due to the quadratic input length\\ncomplexity of the attention layers. In this work, we investigate the effect of\\ndropping MLP and attention layers at inference time o\""
      ]
     },
     "execution_count": 4,
     "metadata": {},
     "output_type": "execute_result"
    }
   ],
   "source": [
    "arxiv.invoke(\"Attention is all you need\")"
   ]
  },
  {
   "cell_type": "code",
   "execution_count": 6,
   "id": "1eea14fc",
   "metadata": {},
   "outputs": [
    {
     "data": {
      "text/plain": [
       "'wikipedia'"
      ]
     },
     "execution_count": 6,
     "metadata": {},
     "output_type": "execute_result"
    }
   ],
   "source": [
    "api_wrapper_wiki = WikipediaAPIWrapper(top_k_results=1, doc_content_chars_max=500)\n",
    "wiki = WikipediaQueryRun(api_wrapper=api_wrapper_wiki)\n",
    "wiki.name"
   ]
  },
  {
   "cell_type": "code",
   "execution_count": 8,
   "id": "d38f6ca8",
   "metadata": {},
   "outputs": [],
   "source": [
    "from dotenv import load_dotenv\n",
    "load_dotenv()\n",
    "\n",
    "import os\n",
    "\n",
    "tavily_api_key = os.getenv(\"TAVILY_API_KEY\")\n",
    "groq_api_key = os.getenv(\"GROQ_API_KEY\")"
   ]
  },
  {
   "cell_type": "code",
   "execution_count": 9,
   "id": "48037a8f",
   "metadata": {},
   "outputs": [],
   "source": [
    "from langchain_community.tools.tavily_search import TavilySearchResults\n",
    "\n",
    "tavily = TavilySearchResults(tavily_api_key = tavily_api_key)"
   ]
  },
  {
   "cell_type": "code",
   "execution_count": 10,
   "id": "1d60d0f6",
   "metadata": {},
   "outputs": [
    {
     "data": {
      "text/plain": [
       "[{'title': 'AI News | Latest AI News, Analysis & Events',\n",
       "  'url': 'https://www.artificialintelligence-news.com/',\n",
       "  'content': 'AI News reports on the latest artificial intelligence news and insights. Explore industry trends from the frontline of AI.',\n",
       "  'score': 0.71185225},\n",
       " {'title': 'AI News - YouTube',\n",
       "  'url': 'https://www.youtube.com/@AINewsOfficial',\n",
       "  'content': 'AI News delivers the latest breakthroughs in artificial intelligence, machine learning, deep learning, brain computer interface, robotics, and other future',\n",
       "  'score': 0.6672566},\n",
       " {'title': 'Artificial intelligence - NBC News',\n",
       "  'url': 'https://www.nbcnews.com/artificial-intelligence',\n",
       "  'content': \"![](https://media-cldnry.s-nbcnews.com/image/upload/t_focal-260x130,f_auto,q_auto:best/mpx/2704722219/2025_03/1741305825834_nn_emc_aicompanions_250306_1920x1080-uqwbkq.jpg)\\n\\n## 02:54\\n\\n### [A.I. chatbots becoming popular but worry privacy advocates](https://www.nbcnews.com/nightly-news/video/a-i-chatbots-becoming-popular-but-worry-privacy-advocates-233710149872)\\n\\n## Nightly News\\n\\n## MORE AI NEWS\\n\\n## Nvidia CEO hails Trump's plan to rescind some export curbs on AI chips to China [...] Profile\\n\\nSections\\n\\nLocal\\n\\ntv\\n\\nFeatured\\n\\nMore From NBC\\n\\nFollow NBC News\\n\\nnews Alerts\\n\\nThere are no new alerts at this time\\n\\n# ARTIFICIAL INTELLIGENCE\\n\\nThe latest news and top stories on artificial intelligence, including ChatGPT, AI Chatbot and Bard.\\n\\n![Donald Trump.](https://media-cldnry.s-nbcnews.com/image/upload/t_focal-762x508,f_auto,q_auto:best/rockcms/2025-06/250604-trump-ch-1044-4a20e9.jpg) [...] ## [Reddit sues AI startup Anthropic for breach of contract, 'unfair competition'](https://www.nbcnews.com/tech/tech-news/reddit-sues-ai-anthropic-breach-contract-unfair-competition-rcna211062)\\n\\n![Sam Altman](https://media-cldnry.s-nbcnews.com/image/upload/t_focal-80x80,f_auto,q_auto:best/rockcms/2025-04/250416-sam-altman-ew-307p-8b9935.jpg)\\n\\n### [Business News](https://www.nbcnews.com/business)\",\n",
       "  'score': 0.61112726},\n",
       " {'title': 'AI News & Artificial Intelligence - TechCrunch',\n",
       "  'url': 'https://techcrunch.com/category/artificial-intelligence/',\n",
       "  'content': '![](https://techcrunch.com/wp-content/uploads/2024/09/tc-lockup.svg)\\n![](https://techcrunch.com/wp-content/uploads/2024/09/tc-logo-mobile.svg)\\n\\n### Topics\\n\\n[Latest](/latest/)\\n\\n[AI](/category/artificial-intelligence/)\\n\\n[Amazon](/tag/amazon/)\\n\\n[Apps](/category/apps/)\\n\\n[Biotech & Health](/category/biotech-health/)\\n\\n[Climate](/category/climate/)\\n\\n[Cloud Computing](/tag/cloud-computing/)\\n\\n[Commerce](/category/commerce/)\\n\\n[Crypto](/category/cryptocurrency/)\\n\\n[Enterprise](/category/enterprise/) [...] ![](https://techcrunch.com/wp-content/uploads/2025/06/IMG_1221.jpeg?w=396)\\n\\n### [One of Africa’s most successful founders is back with a new AI startup and already raised $9M](https://techcrunch.com/2025/06/03/one-of-africas-most-successful-founders-is-back-with-a-new-ai-startup-and-already-raised-9m/)\\n\\n![Man looking at big data represented by binary code and data symbols like graphs.](https://techcrunch.com/wp-content/uploads/2023/09/GettyImages-1206978865.jpg?w=668) [...] [TechCrunch Brand Studio](/brand-studio/)\\n\\n[Crunchboard](https://www.crunchboard.com/)\\n\\n[Contact Us](/contact-us/)\\n\\n# AI\\n\\nNews coverage on artificial intelligence and machine learning tech, the companies building them, and the ethical issues AI raises today. This encompasses [generative AI](https://techcrunch.com/tag/generative-ai/), including large language models, text-to-image and text-to-video models; speech recognition and generation; and predictive analytics.\\n\\n###',\n",
       "  'score': 0.61057013},\n",
       " {'title': 'AI Weekly — AI News & Leading Newsletter on Artificial Intelligence ...',\n",
       "  'url': 'https://aiweekly.co/',\n",
       "  'content': 'Subscribe to a weekly collection of AI News and resources on Artificial Intelligence and Machine Learning. For free. Email SUBSCRIBE.',\n",
       "  'score': 0.5826579}]"
      ]
     },
     "execution_count": 10,
     "metadata": {},
     "output_type": "execute_result"
    }
   ],
   "source": [
    "tavily.invoke(\"Provide me the latest AI news\")"
   ]
  },
  {
   "cell_type": "code",
   "execution_count": 11,
   "id": "9b44442a",
   "metadata": {},
   "outputs": [],
   "source": [
    "# combine all these tools in the list\n",
    "\n",
    "tools = [arxiv, wiki, tavily]"
   ]
  },
  {
   "cell_type": "code",
   "execution_count": 12,
   "id": "ee198024",
   "metadata": {},
   "outputs": [],
   "source": [
    "# initialize the LLM model\n",
    "\n",
    "from langchain_groq import ChatGroq\n",
    "\n",
    "llm = ChatGroq(model = \"qwen-qwq-32b\")"
   ]
  },
  {
   "cell_type": "code",
   "execution_count": 13,
   "id": "e0811b35",
   "metadata": {},
   "outputs": [
    {
     "data": {
      "text/plain": [
       "AIMessage(content='\\n<think>\\nOkay, the user is asking, \"What is AI?\" Let me start by breaking down the term. AI stands for Artificial Intelligence. I need to explain what that means in simple terms. Maybe start with a basic definition: the simulation of human intelligence in machines. But wait, that\\'s a bit vague. I should mention how it involves tasks like learning, problem-solving, and decision-making. \\n\\nHmm, I should differentiate between narrow or weak AI and general or strong AI. Weak AI is what\\'s used now, like voice assistants or recommendation systems. Strong AI would have human-level consciousness, which doesn\\'t exist yet. That\\'s an important distinction to avoid confusion. \\n\\nI should also touch on the main fields within AI, like machine learning, neural networks, natural language processing. Maybe give some examples people are familiar with, like Siri, Alexa, self-driving cars. That makes it relatable. \\n\\nWait, the user might not know the difference between AI and machine learning. I should clarify that machine learning is a subset of AI. Also, maybe mention how AI uses algorithms to find patterns in data. \\n\\nOh, and the applications are important. Healthcare, finance, gaming, customer service. That shows the relevance. Also, ethical considerations? Like bias in AI systems or job displacement. But maybe keep that brief unless the user asks more. \\n\\nI should structure it logically: start with a definition, then types of AI, key technologies, applications, and maybe future potential. Keep it clear and avoid jargon. Let me make sure I don\\'t make it too technical. The user might be a beginner, so simplicity is key. \\n\\nWait, maybe start with \"Artificial Intelligence (AI) refers to...\" and then elaborate. Examples help. Also, the Turing Test concept could be useful for explaining the goal of AI to mimic human behavior. \\n\\nI need to check if there are any common misconceptions. For instance, people often think AI is just robots, but it\\'s broader. Emphasize that it\\'s not just hardware but software. \\n\\nAlright, putting it all together in a coherent way. Make sure each paragraph isn\\'t too long. Bullet points might help for the types and fields. But since the user asked for a concise explanation, maybe use short sections. \\n\\nLet me also mention some recent advancements, like deep learning, which is a part of machine learning. And maybe touch on how AI learns from data—supervised, unsupervised learning. But maybe that\\'s too detailed. \\n\\nHmm, balance between informative and not overwhelming. The user probably wants a clear, straightforward answer without getting into too much technical depth. Focus on the essentials and real-world examples. \\n\\nOkay, I think that covers the main points. Let me organize this into a structured answer with headings and bullet points for clarity.\\n</think>\\n\\n**Artificial Intelligence (AI)** refers to the development of computer systems and machines that can perform tasks requiring human-like intelligence, such as learning, problem-solving, decision-making, and perception. Here\\'s a structured breakdown:\\n\\n### **Core Definition**:\\n- **Simulation of Human Intelligence**: AI enables machines to mimic cognitive functions like reasoning, learning, and adaptation.\\n- **Goal**: To create systems that perceive their environment and take actions to maximize success in achieving specific objectives.\\n\\n---\\n\\n### **Types of AI**:\\n1. **Narrow (Weak) AI**:\\n   - **Function**: Designed for specific tasks.\\n   - **Examples**: \\n     - Virtual assistants (e.g., Siri, Alexa).\\n     - Recommendation systems (e.g., Netflix, YouTube).\\n     - Self-driving cars (autonomous driving systems).\\n\\n2. **General (Strong) AI**:\\n   - **Function**: Theoretical concept where machines possess human-like consciousness and adaptability across any task.\\n   - **Status**: Does not yet exist; still under research.\\n\\n---\\n\\n### **Key Technologies in AI**:\\n- **Machine Learning (ML)**: A subset of AI where systems learn patterns from data (e.g., predicting stock prices).\\n  - *Subfields*: Supervised learning (labeled data), unsupervised learning (unlabeled data), reinforcement learning (reward-based learning).\\n- **Deep Learning**: Uses neural networks (multi-layered algorithms) to model complex patterns (e.g., image recognition, speech processing).\\n- **Natural Language Processing (NLP)**: Enables machines to understand and generate human language (e.g., chatbots, translation tools like Google Translate).\\n- **Computer Vision**: Allows systems to interpret visual data (e.g., facial recognition, medical imaging analysis).\\n\\n---\\n\\n### **Applications**:\\n- **Healthcare**: Diagnosing diseases, drug discovery, robotic surgery.\\n- **Finance**: Fraud detection, algorithmic trading, risk assessment.\\n- **Transportation**: Autonomous vehicles, route optimization.\\n- **Entertainment**: Content recommendations, game AI.\\n- **Customer Service**: Chatbots for instant support.\\n\\n---\\n\\n### **How It Works**:\\n- **Data-Driven**: AI systems rely on vast amounts of data to identify patterns and make decisions.\\n- **Algorithms**: Mathematical models guide learning and decision-making processes.\\n- **Adaptation**: Systems improve over time with more data (e.g., self-improving algorithms).\\n\\n---\\n\\n### **Current Limitations**:\\n- **Narrow Focus**: Most AI today is specialized for single tasks.\\n- **Bias and Ethics**: Risks of inheriting human biases from training data.\\n- **Lack of Consciousness**: No true \"awareness\" or emotions.\\n\\n---\\n\\n### **Future Potential**:\\n- Advancements in robotics, healthcare, climate modeling, and space exploration.\\n- Ethical frameworks and regulations to address societal impacts.\\n\\nIn summary, AI is a transformative field blending computer science, data analysis, and logic to create systems that enhance human capabilities and solve complex problems.', additional_kwargs={}, response_metadata={'token_usage': {'completion_tokens': 1182, 'prompt_tokens': 14, 'total_tokens': 1196, 'completion_time': 2.898723917, 'prompt_time': 0.003080159, 'queue_time': 0.247080983, 'total_time': 2.901804076}, 'model_name': 'qwen-qwq-32b', 'system_fingerprint': 'fp_512a3da6bb', 'finish_reason': 'stop', 'logprobs': None}, id='run--08b89dad-32f7-40aa-a75a-409b10dfccaf-0', usage_metadata={'input_tokens': 14, 'output_tokens': 1182, 'total_tokens': 1196})"
      ]
     },
     "execution_count": 13,
     "metadata": {},
     "output_type": "execute_result"
    }
   ],
   "source": [
    "llm.invoke(\"What is AI?\")"
   ]
  },
  {
   "cell_type": "code",
   "execution_count": 14,
   "id": "8ffeef47",
   "metadata": {},
   "outputs": [],
   "source": [
    "llm_with_tools = llm.bind_tools(tools = tools)"
   ]
  },
  {
   "cell_type": "code",
   "execution_count": 15,
   "id": "37503070",
   "metadata": {},
   "outputs": [
    {
     "data": {
      "text/plain": [
       "AIMessage(content='', additional_kwargs={'tool_calls': [{'id': 'call_chkv', 'function': {'arguments': '{\"query\":\"recent news on artificial intelligence\"}', 'name': 'tavily_search_results_json'}, 'type': 'function'}]}, response_metadata={'token_usage': {'completion_tokens': 193, 'prompt_tokens': 356, 'total_tokens': 549, 'completion_time': 0.452069563, 'prompt_time': 0.020308432, 'queue_time': 0.253835761, 'total_time': 0.472377995}, 'model_name': 'qwen-qwq-32b', 'system_fingerprint': 'fp_a91d9c2cfb', 'finish_reason': 'tool_calls', 'logprobs': None}, id='run--3fcd6616-6bb4-4c80-855e-2eb4dd70a419-0', tool_calls=[{'name': 'tavily_search_results_json', 'args': {'query': 'recent news on artificial intelligence'}, 'id': 'call_chkv', 'type': 'tool_call'}], usage_metadata={'input_tokens': 356, 'output_tokens': 193, 'total_tokens': 549})"
      ]
     },
     "execution_count": 15,
     "metadata": {},
     "output_type": "execute_result"
    }
   ],
   "source": [
    "llm_with_tools.invoke(\"what is the recent news on AI?\")"
   ]
  },
  {
   "cell_type": "code",
   "execution_count": 16,
   "id": "78d01f07",
   "metadata": {},
   "outputs": [
    {
     "data": {
      "text/plain": [
       "AIMessage(content='', additional_kwargs={'tool_calls': [{'id': 'call_d74z', 'function': {'arguments': '{\"query\":\"latest research quantum computing\"}', 'name': 'arxiv'}, 'type': 'function'}]}, response_metadata={'token_usage': {'completion_tokens': 229, 'prompt_tokens': 357, 'total_tokens': 586, 'completion_time': 0.522786107, 'prompt_time': 0.042990482, 'queue_time': 0.769766552, 'total_time': 0.565776589}, 'model_name': 'qwen-qwq-32b', 'system_fingerprint': 'fp_28178d7ff6', 'finish_reason': 'tool_calls', 'logprobs': None}, id='run--9ba10bc7-c364-493f-9100-9d4a7dbf0efa-0', tool_calls=[{'name': 'arxiv', 'args': {'query': 'latest research quantum computing'}, 'id': 'call_d74z', 'type': 'tool_call'}], usage_metadata={'input_tokens': 357, 'output_tokens': 229, 'total_tokens': 586})"
      ]
     },
     "execution_count": 16,
     "metadata": {},
     "output_type": "execute_result"
    }
   ],
   "source": [
    "llm_with_tools.invoke(\"What is the latest research on quantum computing?\")"
   ]
  },
  {
   "cell_type": "code",
   "execution_count": 17,
   "id": "bbf08184",
   "metadata": {},
   "outputs": [
    {
     "data": {
      "text/plain": [
       "AIMessage(content='', additional_kwargs={'tool_calls': [{'id': 'call_1dff', 'function': {'arguments': '{\"query\":\"machine learning\"}', 'name': 'wikipedia'}, 'type': 'function'}]}, response_metadata={'token_usage': {'completion_tokens': 228, 'prompt_tokens': 353, 'total_tokens': 581, 'completion_time': 0.520385258, 'prompt_time': 0.035003872, 'queue_time': 0.257973597, 'total_time': 0.55538913}, 'model_name': 'qwen-qwq-32b', 'system_fingerprint': 'fp_a91d9c2cfb', 'finish_reason': 'tool_calls', 'logprobs': None}, id='run--ae2c4f5c-bedf-4ae8-bdf0-7a814d76cc9b-0', tool_calls=[{'name': 'wikipedia', 'args': {'query': 'machine learning'}, 'id': 'call_1dff', 'type': 'tool_call'}], usage_metadata={'input_tokens': 353, 'output_tokens': 228, 'total_tokens': 581})"
      ]
     },
     "execution_count": 17,
     "metadata": {},
     "output_type": "execute_result"
    }
   ],
   "source": [
    "llm_with_tools.invoke(\"What is machine learning?\")"
   ]
  },
  {
   "cell_type": "code",
   "execution_count": null,
   "id": "6d106a06",
   "metadata": {},
   "outputs": [],
   "source": [
    "# Note the 'name' key in all the AIMessage. The LLM will know which tool to call based on the input provided by the user."
   ]
  },
  {
   "cell_type": "code",
   "execution_count": null,
   "id": "97d4b183",
   "metadata": {},
   "outputs": [],
   "source": []
  },
  {
   "cell_type": "code",
   "execution_count": null,
   "id": "f5d74b80",
   "metadata": {},
   "outputs": [],
   "source": []
  },
  {
   "cell_type": "code",
   "execution_count": null,
   "id": "dc1a8f27",
   "metadata": {},
   "outputs": [],
   "source": []
  },
  {
   "cell_type": "code",
   "execution_count": null,
   "id": "f55f89d1",
   "metadata": {},
   "outputs": [],
   "source": []
  },
  {
   "cell_type": "code",
   "execution_count": null,
   "id": "d15923c0",
   "metadata": {},
   "outputs": [],
   "source": []
  },
  {
   "cell_type": "code",
   "execution_count": null,
   "id": "9bec5ac0",
   "metadata": {},
   "outputs": [],
   "source": []
  },
  {
   "cell_type": "code",
   "execution_count": null,
   "id": "a8bcdb3c",
   "metadata": {},
   "outputs": [],
   "source": []
  },
  {
   "cell_type": "code",
   "execution_count": null,
   "id": "4fe3f503",
   "metadata": {},
   "outputs": [],
   "source": []
  },
  {
   "cell_type": "code",
   "execution_count": null,
   "id": "26943a42",
   "metadata": {},
   "outputs": [],
   "source": []
  },
  {
   "cell_type": "code",
   "execution_count": null,
   "id": "171f49de",
   "metadata": {},
   "outputs": [],
   "source": []
  }
 ],
 "metadata": {
  "kernelspec": {
   "display_name": ".venv",
   "language": "python",
   "name": "python3"
  },
  "language_info": {
   "codemirror_mode": {
    "name": "ipython",
    "version": 3
   },
   "file_extension": ".py",
   "mimetype": "text/x-python",
   "name": "python",
   "nbconvert_exporter": "python",
   "pygments_lexer": "ipython3",
   "version": "3.11.7"
  }
 },
 "nbformat": 4,
 "nbformat_minor": 5
}
