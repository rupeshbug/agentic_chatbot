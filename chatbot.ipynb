{
 "cells": [
  {
   "cell_type": "code",
   "execution_count": 1,
   "id": "31de5daf",
   "metadata": {},
   "outputs": [],
   "source": [
    "from langchain_community.tools import ArxivQueryRun, WikipediaQueryRun\n",
    "from langchain_community.utilities import WikipediaAPIWrapper, ArxivAPIWrapper"
   ]
  },
  {
   "cell_type": "code",
   "execution_count": 2,
   "id": "2e66068e",
   "metadata": {},
   "outputs": [
    {
     "name": "stdout",
     "output_type": "stream",
     "text": [
      "arxiv\n"
     ]
    }
   ],
   "source": [
    "api_wrapper_arxiv = ArxivAPIWrapper(top_k_results=2, doc_content_chars_max=500)\n",
    "arxiv = ArxivQueryRun(api_wrapper=api_wrapper_arxiv, description=\"Query arxiv papers\")\n",
    "print(arxiv.name)"
   ]
  },
  {
   "cell_type": "code",
   "execution_count": 3,
   "id": "1f756d72",
   "metadata": {},
   "outputs": [
    {
     "data": {
      "text/plain": [
       "\"Published: 2024-07-22\\nTitle: Attention Is All You Need But You Don't Need All Of It For Inference of Large Language Models\\nAuthors: Georgy Tyukin, Gbetondji J-S Dovonon, Jean Kaddour, Pasquale Minervini\\nSummary: The inference demand for LLMs has skyrocketed in recent months, and serving\\nmodels with low latencies remains challenging due to the quadratic input length\\ncomplexity of the attention layers. In this work, we investigate the effect of\\ndropping MLP and attention layers at inference time o\""
      ]
     },
     "execution_count": 3,
     "metadata": {},
     "output_type": "execute_result"
    }
   ],
   "source": [
    "arxiv.invoke(\"Attention is all you need\")"
   ]
  },
  {
   "cell_type": "code",
   "execution_count": 4,
   "id": "1eea14fc",
   "metadata": {},
   "outputs": [
    {
     "data": {
      "text/plain": [
       "'wikipedia'"
      ]
     },
     "execution_count": 4,
     "metadata": {},
     "output_type": "execute_result"
    }
   ],
   "source": [
    "api_wrapper_wiki = WikipediaAPIWrapper(top_k_results=1, doc_content_chars_max=500)\n",
    "wiki = WikipediaQueryRun(api_wrapper=api_wrapper_wiki)\n",
    "wiki.name"
   ]
  },
  {
   "cell_type": "code",
   "execution_count": 5,
   "id": "d38f6ca8",
   "metadata": {},
   "outputs": [],
   "source": [
    "from dotenv import load_dotenv\n",
    "load_dotenv(dotenv_path=\"c:/Users/Lenovo/Desktop/agentic_chatbot/.env\")\n",
    "\n",
    "import os\n",
    "\n",
    "tavily_api_key = os.getenv(\"TAVILY_API_KEY\")\n",
    "groq_api_key = os.getenv(\"GROQ_API_KEY\")"
   ]
  },
  {
   "cell_type": "code",
   "execution_count": 7,
   "id": "48037a8f",
   "metadata": {},
   "outputs": [],
   "source": [
    "from langchain_community.tools.tavily_search import TavilySearchResults\n",
    "\n",
    "tavily = TavilySearchResults(tavily_api_key = tavily_api_key)"
   ]
  },
  {
   "cell_type": "code",
   "execution_count": 8,
   "id": "1d60d0f6",
   "metadata": {},
   "outputs": [
    {
     "data": {
      "text/plain": [
       "[{'title': 'Artificial Intelligence News - ScienceDaily',\n",
       "  'url': 'https://www.sciencedaily.com/news/computers_math/artificial_intelligence/',\n",
       "  'content': \"ScienceDaily\\n\\n# Artificial Intelligence News\\n\\n## Top Headlines\\n\\n## Latest Headlines\\n\\n## Earlier Headlines\\n\\n### Thursday, May 22, 2025\\n\\n### Wednesday, May 21, 2025\\n\\n### Monday, May 19, 2025\\n\\n### Thursday, May 15, 2025\\n\\n### Wednesday, May 14, 2025\\n\\n### Tuesday, May 13, 2025\\n\\n### Monday, May 12, 2025\\n\\n### Thursday, May 8, 2025\\n\\n### Wednesday, May 7, 2025\\n\\n### Tuesday, May 6, 2025\\n\\n### Monday, May 5, 2025\\n\\n### Thursday, May 1, 2025\\n\\n### Wednesday, April 30, 2025\\n\\n### Monday, April 28, 2025 [...] ### Friday, April 25, 2025\\n\\n### Thursday, April 24, 2025\\n\\n### Wednesday, April 23, 2025\\n\\n### Tuesday, April 22, 2025\\n\\n### Monday, April 21, 2025\\n\\n### Wednesday, April 16, 2025\\n\\n### Tuesday, April 15, 2025\\n\\n### Monday, April 14, 2025\\n\\n### Thursday, April 10, 2025\\n\\n### Wednesday, April 9, 2025\\n\\n### Tuesday, April 8, 2025\\n\\n### Monday, April 7, 2025\\n\\n### Friday, April 4, 2025\\n\\n### Thursday, April 3, 2025\\n\\n### Wednesday, April 2, 2025\\n\\n### Monday, March 31, 2025\\n\\n### Friday, March 28, 2025 [...] ### Thursday, March 27, 2025\\n\\n### Wednesday, March 26, 2025\\n\\n### Tuesday, March 25, 2025\\n\\n### Thursday, March 20, 2025\\n\\n### Wednesday, March 19, 2025\\n\\n### Tuesday, March 18, 2025\\n\\n## Breaking\\n\\n## Trending Topics\\n\\n## Strange & Offbeat\\n\\nStay informed with ScienceDaily's free email newsletter, updated daily and weekly. Or view our many newsfeeds in your RSS reader:\\n\\nKeep up to date with the latest news from ScienceDaily via social networks:\",\n",
       "  'score': 0.67911536},\n",
       " {'title': 'The 2025 AI Index Report | Stanford HAI',\n",
       "  'url': 'https://hai.stanford.edu/ai-index/2025-ai-index-report',\n",
       "  'content': '### 2. AI is increasingly embedded in everyday life.\\n\\nFrom healthcare to transportation, AI is rapidly moving from the lab to daily life. In 2023, the FDA approved 223 AI-enabled medical devices, up from just six in 2015. On the roads, self-driving cars are no longer experimental: Waymo, one of the largest U.S. operators, provides over 150,000 autonomous rides each week, while Baidu’s affordable Apollo Go robotaxi fleet now serves numerous cities across China. [...] In 2024, U.S. private AI investment grew to $109.1 billion—nearly 12 times China’s $9.3 billion and 24 times the U.K.’s $4.5 billion. Generative AI saw particularly strong momentum, attracting $33.9 billion globally in private investment—an 18.7% increase from 2023. AI business usage is also accelerating: 78% of organizations reported using AI in 2024, up from 55% the year before. Meanwhile, a growing body of research confirms that AI boosts productivity and, in most cases, helps narrow skill [...] In 2024, U.S. federal agencies introduced 59 AI-related regulations—more than double the number in 2023—and issued by twice as many agencies. Globally, legislative mentions of AI rose 21.3% across 75 countries since 2023, marking a ninefold increase since 2016. Alongside growing attention, governments are investing at scale: Canada pledged $2.4 billion, China launched a $47.5 billion semiconductor fund, France committed €109 billion, India pledged $1.25 billion, and Saudi Arabia’s Project',\n",
       "  'score': 0.60694176},\n",
       " {'title': 'Artificial Intelligence - AI News - Reuters',\n",
       "  'url': 'https://www.reuters.com/technology/artificial-intelligence/',\n",
       "  'content': \"# Artificial Intelligence\\n\\nHow Artificial Intelligence is creating the next normal\\n\\nSpaceX has committed $2 billion to xAI as part of a $5 billion equity round, deepening the ties between tech billionaire Elon Musk's ventures as his artificial intelligence startup races to compete with rival OpenAI, the Wall Street Journal reported on Saturday.\\n\\nIllustration shows 3D-printed miniature model of Elon Musk and xAI logo\\n\\n## Reuters Events Logo\\n\\nReuters Events Logo\\n\\nEvent [...] 28-29 Apr 2025 · New York, USA\\n\\nArtificial Intelligence silicon chip with Reuters logo\\n\\nEvent\\n\\n15-16 Jul 2025 · San Jose, USA\\n\\nArtificial Intelligence Chip with Reuters logo\\n\\nEvent\\n\\n17 Sep 2025 · Singapore, USA\\n\\nArtificial Intelligence silicon chip with Reuters logo\\n\\nEvent\\n\\n29-30 Sep 2025 · London, UK\\n\\nArtificial Intelligence Chip with Reuters logo\\n\\n## More Coverage\\n\\n## Site Index\\n\\n## Browse\\n\\n## About Reuters\\n\\n## Stay Informed\\n\\n## Information you can trust [...] Reuters, the news and media division of Thomson Reuters, is the world’s largest multimedia news provider, reaching billions of people worldwide every day. Reuters provides business, financial, national and international news to professionals via desktop terminals, the world's media organizations, industry events and directly to consumers.\\n\\n## Follow Us\\n\\n## LSEG Products\",\n",
       "  'score': 0.559411},\n",
       " {'title': 'Future of AI: 7 Key AI Trends For 2025 & 2026 - Exploding Topics',\n",
       "  'url': 'https://explodingtopics.com/blog/future-of-ai',\n",
       "  'content': 'undefined\\n\\nIn one current example, Avenda Health has launched an AI platform for managing and treating prostate cancer.\\n\\nThe solution combines patient data, imaging, biopsies, and pathology into a deep-learning algorithm. It then determines the extent of the cancer and creates a 3D cancer estimation map along with optimal treatment possibilities. [...] At the state level, Colorado became the first state to pass comprehensive AI legislation. In May 2024, it passed the Colorado AI Act.\\n\\nEffective from February 2026, it mirrors the EU in defining “high-risk” AI systems - ones that “when deployed, make, or are a substantial factor in making a consequential decision”.\\n\\nThe legislation imposes duties on those systems to take care to avoid bias and discrimination.\\n\\nIt’s clear that the drive for responsible AI is underway. [...] In clinical trials, the use of the platform resulted in treatment changes 28% of the time. Most often, these changes resulted in more localized treatment of the cancer.\\n\\nAvenda claims that its AI can identify 159% more cancer than MRI alone.\\n\\nundefined  \\nAvenda’s Unfold AI system improves location mapping and treatment of prostate cancer.\\n\\nundefined\\n\\nSome in healthcare believe that AI may even go as far as replacing physicians in many aspects of the job.',\n",
       "  'score': 0.51544976},\n",
       " {'title': 'Advancements in AI and Machine Learning',\n",
       "  'url': 'https://ep.jhu.edu/news/advancements-in-ai-and-machine-learning/',\n",
       "  'content': 'The field of generative AI has seen remarkable progress, particularly with the development of advanced Large Language Models (LLMs). Meta’s recent release of Llama 4 includes models like Scout and Maverick that are designed to handle politically and socially contentious questions more effectively than their predecessors. They demonstrate reduced political bias and can process diverse data types, including text, video, images, and audio. \\u200b [...] Today, AI has been seamlessly integrated into everyday life. Advances in ML, natural language processing (NLP), and computer vision have enabled AI to perform ever-more complex tasks such as diagnosing medical conditions, powering autonomous vehicles, and personalizing user experiences in digital platforms.\\n\\nAs AI’s evolution continues, we can expect it to further revolutionize the world through even greater efficiency and new avenues for technological development. [...] ### Real-World Applications of AI in Engineering\\n\\nAI  has revolutionized the entire field of engineering. Altair’s HyperWorks® platform uses geometric deep learning to deliver simulation results up to 1,000 times faster than previous methods. This allows engineers to focus on higher-value tasks without losing accuracy. \\u200b',\n",
       "  'score': 0.4250568}]"
      ]
     },
     "execution_count": 8,
     "metadata": {},
     "output_type": "execute_result"
    }
   ],
   "source": [
    "tavily.invoke(\"Provide me the latest AI news\")"
   ]
  },
  {
   "cell_type": "code",
   "execution_count": 9,
   "id": "9b44442a",
   "metadata": {},
   "outputs": [],
   "source": [
    "# combine all these tools in the list\n",
    "\n",
    "tools = [arxiv, wiki, tavily]"
   ]
  },
  {
   "cell_type": "code",
   "execution_count": 10,
   "id": "ee198024",
   "metadata": {},
   "outputs": [],
   "source": [
    "# initialize the LLM model\n",
    "\n",
    "from langchain_groq import ChatGroq\n",
    "\n",
    "llm = ChatGroq(model=\"llama3-70b-8192\", api_key=groq_api_key)"
   ]
  },
  {
   "cell_type": "code",
   "execution_count": 11,
   "id": "e0811b35",
   "metadata": {},
   "outputs": [
    {
     "data": {
      "text/plain": [
       "AIMessage(content='Artificial Intelligence (AI) refers to the development of computer systems that can perform tasks that typically require human intelligence, such as:\\n\\n1. **Learning**: AI systems can learn from data, identify patterns, and improve their performance over time.\\n2. **Reasoning**: AI systems can draw conclusions, make decisions, and solve problems using logic and rules.\\n3. **Perception**: AI systems can interpret and understand data from sensors, such as images, speech, and text.\\n\\nThe primary goal of AI is to create machines that can think, learn, and act like humans, but with the ability to process vast amounts of data much faster and more accurately. AI systems can be categorized into two types:\\n\\n**Narrow or Weak AI**: Designed to perform a specific task, such as:\\n\\t* Virtual assistants (e.g., Siri, Alexa)\\n\\t* Image recognition systems\\n\\t* Language translation software\\n\\t* Expert systems (e.g., medical diagnosis)\\n\\n**General or Strong AI**: Aims to create a machine that can perform any intellectual task, similar to human intelligence. This type of AI is still in the realm of research and development.\\n\\nAI has numerous applications across various industries, including:\\n\\n1. **Healthcare**: Diagnosis, treatment planning, and personalized medicine.\\n2. **Finance**: Fraud detection, risk management, and investment analysis.\\n3. **Transportation**: Self-driving cars, traffic optimization, and route planning.\\n4. **Retail**: Chatbots, personalized recommendations, and supply chain management.\\n5. **Education**: Intelligent tutoring systems, adaptive learning, and grading automation.\\n\\nThe key technologies driving AI advancements include:\\n\\n1. **Machine Learning**: Enables AI systems to learn from data and improve over time.\\n2. **Deep Learning**: A subset of machine learning that uses neural networks to analyze data.\\n3. **Natural Language Processing (NLP)**: Enables AI systems to understand and generate human-like language.\\n\\nAs AI continues to evolve, it has the potential to transform many aspects of our lives, from improving productivity and efficiency to enhancing decision-making and innovation.', additional_kwargs={}, response_metadata={'token_usage': {'completion_tokens': 418, 'prompt_tokens': 14, 'total_tokens': 432, 'completion_time': 1.323386794, 'prompt_time': 0.000201177, 'queue_time': 0.052478703, 'total_time': 1.323587971}, 'model_name': 'llama3-70b-8192', 'system_fingerprint': 'fp_dd4ae1c591', 'finish_reason': 'stop', 'logprobs': None}, id='run--0cf0d8a8-f299-41fb-ac3a-99d8755eef0c-0', usage_metadata={'input_tokens': 14, 'output_tokens': 418, 'total_tokens': 432})"
      ]
     },
     "execution_count": 11,
     "metadata": {},
     "output_type": "execute_result"
    }
   ],
   "source": [
    "llm.invoke(\"What is AI?\")"
   ]
  },
  {
   "cell_type": "code",
   "execution_count": 12,
   "id": "8ffeef47",
   "metadata": {},
   "outputs": [],
   "source": [
    "# bind the LLM with tools\n",
    "\n",
    "llm_with_tools = llm.bind_tools(tools = tools)"
   ]
  },
  {
   "cell_type": "code",
   "execution_count": 13,
   "id": "37503070",
   "metadata": {},
   "outputs": [
    {
     "data": {
      "text/plain": [
       "AIMessage(content='', additional_kwargs={'tool_calls': [{'id': 'qfffa5873', 'function': {'arguments': '{\"query\":\"AI news\"}', 'name': 'arxiv'}, 'type': 'function'}]}, response_metadata={'token_usage': {'completion_tokens': 44, 'prompt_tokens': 1165, 'total_tokens': 1209, 'completion_time': 0.17992697, 'prompt_time': 0.044451823, 'queue_time': 0.05828836999999999, 'total_time': 0.224378793}, 'model_name': 'llama3-70b-8192', 'system_fingerprint': 'fp_dd4ae1c591', 'finish_reason': 'tool_calls', 'logprobs': None}, id='run--5a3c24a1-23e1-4ec1-a2af-ac11f88a45e2-0', tool_calls=[{'name': 'arxiv', 'args': {'query': 'AI news'}, 'id': 'qfffa5873', 'type': 'tool_call'}], usage_metadata={'input_tokens': 1165, 'output_tokens': 44, 'total_tokens': 1209})"
      ]
     },
     "execution_count": 13,
     "metadata": {},
     "output_type": "execute_result"
    }
   ],
   "source": [
    "llm_with_tools.invoke(\"what is the recent news on AI?\")"
   ]
  },
  {
   "cell_type": "code",
   "execution_count": 14,
   "id": "78d01f07",
   "metadata": {},
   "outputs": [
    {
     "data": {
      "text/plain": [
       "AIMessage(content='', additional_kwargs={'tool_calls': [{'id': 'tnc9z2frz', 'function': {'arguments': '{\"query\":\"quantum computing\"}', 'name': 'arxiv'}, 'type': 'function'}]}, response_metadata={'token_usage': {'completion_tokens': 45, 'prompt_tokens': 1166, 'total_tokens': 1211, 'completion_time': 0.197795667, 'prompt_time': 0.037035436, 'queue_time': 0.055552554, 'total_time': 0.234831103}, 'model_name': 'llama3-70b-8192', 'system_fingerprint': 'fp_dd4ae1c591', 'finish_reason': 'tool_calls', 'logprobs': None}, id='run--c5408545-c13c-4cd1-8e23-ffa6a44456d5-0', tool_calls=[{'name': 'arxiv', 'args': {'query': 'quantum computing'}, 'id': 'tnc9z2frz', 'type': 'tool_call'}], usage_metadata={'input_tokens': 1166, 'output_tokens': 45, 'total_tokens': 1211})"
      ]
     },
     "execution_count": 14,
     "metadata": {},
     "output_type": "execute_result"
    }
   ],
   "source": [
    "llm_with_tools.invoke(\"What is the latest research on quantum computing?\")"
   ]
  },
  {
   "cell_type": "code",
   "execution_count": 15,
   "id": "bbf08184",
   "metadata": {},
   "outputs": [
    {
     "data": {
      "text/plain": [
       "AIMessage(content='', additional_kwargs={'tool_calls': [{'id': '1fwnq1aqf', 'function': {'arguments': '{\"query\":\"machine learning\"}', 'name': 'wikipedia'}, 'type': 'function'}]}, response_metadata={'token_usage': {'completion_tokens': 44, 'prompt_tokens': 1162, 'total_tokens': 1206, 'completion_time': 0.172304769, 'prompt_time': 0.044309694, 'queue_time': 0.05453235100000001, 'total_time': 0.216614463}, 'model_name': 'llama3-70b-8192', 'system_fingerprint': 'fp_dd4ae1c591', 'finish_reason': 'tool_calls', 'logprobs': None}, id='run--69c90855-0770-4ba0-8c52-52a9a3dd2ce3-0', tool_calls=[{'name': 'wikipedia', 'args': {'query': 'machine learning'}, 'id': '1fwnq1aqf', 'type': 'tool_call'}], usage_metadata={'input_tokens': 1162, 'output_tokens': 44, 'total_tokens': 1206})"
      ]
     },
     "execution_count": 15,
     "metadata": {},
     "output_type": "execute_result"
    }
   ],
   "source": [
    "llm_with_tools.invoke(\"What is machine learning?\")"
   ]
  },
  {
   "cell_type": "code",
   "execution_count": null,
   "id": "6d106a06",
   "metadata": {},
   "outputs": [],
   "source": [
    "# Note the 'name' key in all the AIMessage. The LLM will know which tool to call based on the input provided by the user."
   ]
  },
  {
   "cell_type": "markdown",
   "id": "97d4b183",
   "metadata": {},
   "source": [
    "### Workflow using LangGraph"
   ]
  },
  {
   "cell_type": "code",
   "execution_count": 17,
   "id": "f5d74b80",
   "metadata": {},
   "outputs": [],
   "source": [
    "from typing_extensions import TypedDict \n",
    "from langchain_core.messages import AnyMessage   ## Human Message or AI message\n",
    "from typing import Annotated   ## labelling\n",
    "from langgraph.graph.message import add_messages   ## Reducers in langgraph"
   ]
  },
  {
   "cell_type": "code",
   "execution_count": 18,
   "id": "dc1a8f27",
   "metadata": {},
   "outputs": [],
   "source": [
    "class State(TypedDict):\n",
    "    # add_messages will not ovveride coming messages but rather append messaged inside the messages variable\n",
    "    messages: Annotated[list[AnyMessage], add_messages]"
   ]
  },
  {
   "cell_type": "code",
   "execution_count": 19,
   "id": "f55f89d1",
   "metadata": {},
   "outputs": [],
   "source": [
    "from IPython.display import Image, display\n",
    "from langgraph.graph import StateGraph, START, END\n",
    "from langgraph.prebuilt import ToolNode\n",
    "from langgraph.prebuilt import tools_condition"
   ]
  },
  {
   "cell_type": "code",
   "execution_count": 20,
   "id": "d15923c0",
   "metadata": {},
   "outputs": [
    {
     "data": {
      "image/png": "[encoded data removed]",
      "text/plain": [
       "<IPython.core.display.Image object>"
      ]
     },
     "metadata": {},
     "output_type": "display_data"
    }
   ],
   "source": [
    "# node definition\n",
    "def tool_calling_llm(state: State):\n",
    "    return {\"messages\": [llm_with_tools.invoke(state[\"messages\"])]}\n",
    "\n",
    "builder = StateGraph(State)\n",
    "builder.add_node(\"tool_calling_llm\", tool_calling_llm)\n",
    "builder.add_node(\"tools\", ToolNode(tools))\n",
    "\n",
    "# edges\n",
    "builder.add_edge(START, \"tool_calling_llm\")\n",
    "builder.add_conditional_edges(\n",
    "    \"tool_calling_llm\",\n",
    "    # if the latest message (result) from assistant is a tool call -> tools_condition routes to tools\n",
    "    # if the latest message (result) from assistant is not a tool call -> tools_condition routes to END\n",
    "    tools_condition\n",
    ")\n",
    "\n",
    "builder.add_edge(\"tools\", END)\n",
    "\n",
    "graph = builder.compile()\n",
    "\n",
    "display(Image(graph.get_graph().draw_mermaid_png()))"
   ]
  },
  {
   "cell_type": "code",
   "execution_count": 21,
   "id": "9bec5ac0",
   "metadata": {},
   "outputs": [
    {
     "name": "stdout",
     "output_type": "stream",
     "text": [
      "================================\u001b[1m Human Message \u001b[0m=================================\n",
      "\n",
      "1706.03762\n",
      "==================================\u001b[1m Ai Message \u001b[0m==================================\n",
      "Tool Calls:\n",
      "  arxiv (hnqwhb81h)\n",
      " Call ID: hnqwhb81h\n",
      "  Args:\n",
      "    query: 1706.03762\n",
      "=================================\u001b[1m Tool Message \u001b[0m=================================\n",
      "Name: arxiv\n",
      "\n",
      "Published: 2023-08-02\n",
      "Title: Attention Is All You Need\n",
      "Authors: Ashish Vaswani, Noam Shazeer, Niki Parmar, Jakob Uszkoreit, Llion Jones, Aidan N. Gomez, Lukasz Kaiser, Illia Polosukhin\n",
      "Summary: The dominant sequence transduction models are based on complex recurrent or\n",
      "convolutional neural networks in an encoder-decoder configuration. The best\n",
      "performing models also connect the encoder and decoder through an attention\n",
      "mechanism. We propose a new simple network architecture, the Transformer, base\n"
     ]
    }
   ],
   "source": [
    "messages = graph.invoke({\"messages\": \"1706.03762\"})\n",
    "for m in messages['messages']:\n",
    "    m.pretty_print()"
   ]
  },
  {
   "cell_type": "code",
   "execution_count": 22,
   "id": "a8bcdb3c",
   "metadata": {},
   "outputs": [
    {
     "name": "stdout",
     "output_type": "stream",
     "text": [
      "================================\u001b[1m Human Message \u001b[0m=================================\n",
      "\n",
      "Hi, I am Rupesh\n",
      "==================================\u001b[1m Ai Message \u001b[0m==================================\n",
      "Tool Calls:\n",
      "  arxiv (7p58ek2fr)\n",
      " Call ID: 7p58ek2fr\n",
      "  Args:\n",
      "    query:\n",
      "=================================\u001b[1m Tool Message \u001b[0m=================================\n",
      "Name: arxiv\n",
      "\n",
      "No good Arxiv Result was found\n"
     ]
    }
   ],
   "source": [
    "messages = graph.invoke({\"messages\": \"Hi, I am Rupesh\"})\n",
    "for m in messages['messages']:\n",
    "    m.pretty_print()"
   ]
  },
  {
   "cell_type": "code",
   "execution_count": null,
   "id": "4fe3f503",
   "metadata": {},
   "outputs": [],
   "source": [
    "# In second case, it didn't go for tool call. It directly went to END node. "
   ]
  },
  {
   "cell_type": "code",
   "execution_count": 23,
   "id": "26943a42",
   "metadata": {},
   "outputs": [
    {
     "name": "stdout",
     "output_type": "stream",
     "text": [
      "================================\u001b[1m Human Message \u001b[0m=================================\n",
      "\n",
      "What are the recent AI news and tell me about the latest research in quantum computing.\n",
      "==================================\u001b[1m Ai Message \u001b[0m==================================\n",
      "Tool Calls:\n",
      "  arxiv (andvwh0ss)\n",
      " Call ID: andvwh0ss\n",
      "  Args:\n",
      "    query: AI news\n",
      "=================================\u001b[1m Tool Message \u001b[0m=================================\n",
      "Name: arxiv\n",
      "\n",
      "Published: 2024-08-26\n",
      "Title: AI Thinking: A framework for rethinking artificial intelligence in practice\n",
      "Authors: Denis Newman-Griffis\n",
      "Summary: Artificial intelligence is transforming the way we work with information\n",
      "across disciplines and practical contexts. A growing range of disciplines are\n",
      "now involved in studying, developing, and assessing the use of AI in practice,\n",
      "but these disciplines often employ conflicting understandings of what AI is and\n",
      "what is involved in its use. New, interdiscipl\n"
     ]
    }
   ],
   "source": [
    "messages = graph.invoke({\"messages\": \"What are the recent AI news and tell me about the latest research in quantum computing.\"})\n",
    "for m in messages['messages']:\n",
    "    m.pretty_print()"
   ]
  },
  {
   "cell_type": "code",
   "execution_count": null,
   "id": "171f49de",
   "metadata": {},
   "outputs": [],
   "source": []
  }
 ],
 "metadata": {
  "kernelspec": {
   "display_name": ".venv",
   "language": "python",
   "name": "python3"
  },
  "language_info": {
   "codemirror_mode": {
    "name": "ipython",
    "version": 3
   },
   "file_extension": ".py",
   "mimetype": "text/x-python",
   "name": "python",
   "nbconvert_exporter": "python",
   "pygments_lexer": "ipython3",
   "version": "3.11.7"
  }
 },
 "nbformat": 4,
 "nbformat_minor": 5
}
